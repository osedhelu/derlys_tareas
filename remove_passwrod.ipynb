{
 "cells": [
  {
   "cell_type": "code",
   "execution_count": 2,
   "metadata": {},
   "outputs": [],
   "source": [
    "import os\n",
    "from PyPDF2 import PdfReader, PdfWriter\n",
    "\n",
    "def remove_pdf_password(input_path, password):\n",
    "    \"\"\"\n",
    "    Elimina la contraseña de un archivo PDF.\n",
    "    \n",
    "    Args:\n",
    "        input_path (str): Ruta completa del archivo PDF\n",
    "        password (str): Contraseña del PDF\n",
    "    \"\"\"\n",
    "    try:\n",
    "        # Verificar si el archivo existe\n",
    "        if not os.path.exists(input_path):\n",
    "            print(\"Error: El archivo no existe\")\n",
    "            return False\n",
    "            \n",
    "        # Crear el nombre del archivo de salida\n",
    "        output_path = os.path.splitext(input_path)[0] + \"_sin_password.pdf\"\n",
    "        \n",
    "        # Abrir el PDF con la contraseña\n",
    "        reader = PdfReader(input_path)\n",
    "        if reader.is_encrypted:\n",
    "            reader.decrypt(password)\n",
    "        \n",
    "        # Crear un nuevo PDF sin contraseña\n",
    "        writer = PdfWriter()\n",
    "        \n",
    "        # Copiar todas las páginas al nuevo PDF\n",
    "        for page in reader.pages:\n",
    "            writer.add_page(page)\n",
    "        \n",
    "        # Guardar el nuevo PDF sin contraseña\n",
    "        with open(output_path, \"wb\") as output_file:\n",
    "            writer.write(output_file)\n",
    "            \n",
    "        print(f\"Archivo procesado exitosamente: {output_path}\")\n",
    "        return True\n",
    "        \n",
    "    except Exception as e:\n",
    "        print(f\"Error al procesar el archivo: {str(e)}\")\n",
    "        return False\n",
    "\n"
   ]
  },
  {
   "cell_type": "code",
   "execution_count": null,
   "metadata": {},
   "outputs": [],
   "source": []
  },
  {
   "cell_type": "code",
   "execution_count": 3,
   "metadata": {},
   "outputs": [
    {
     "name": "stdout",
     "output_type": "stream",
     "text": [
      "Archivo procesado exitosamente: /Users/osedhelu/proyectos/derlys_tareas/CuentaNu_OHL854_2025-03_sin_password.pdf\n"
     ]
    },
    {
     "data": {
      "text/plain": [
       "True"
      ]
     },
     "execution_count": 3,
     "metadata": {},
     "output_type": "execute_result"
    }
   ],
   "source": [
    "\n",
    "# Pedir la ruta del archivo al usuario\n",
    "file_path = \"/Users/osedhelu/proyectos/derlys_tareas/CuentaNu_OHL854_2025-03.pdf\"\n",
    "\n",
    "\n",
    "# Contraseña predefinida\n",
    "password = \"1127579854\"\n",
    "\n",
    "# Llamar a la función para eliminar la contraseña\n",
    "remove_pdf_password(file_path, password) "
   ]
  },
  {
   "cell_type": "code",
   "execution_count": null,
   "metadata": {},
   "outputs": [],
   "source": []
  },
  {
   "cell_type": "code",
   "execution_count": null,
   "metadata": {},
   "outputs": [],
   "source": []
  },
  {
   "cell_type": "code",
   "execution_count": null,
   "metadata": {},
   "outputs": [],
   "source": []
  }
 ],
 "metadata": {
  "kernelspec": {
   "display_name": ".venv",
   "language": "python",
   "name": "python3"
  },
  "language_info": {
   "codemirror_mode": {
    "name": "ipython",
    "version": 3
   },
   "file_extension": ".py",
   "mimetype": "text/x-python",
   "name": "python",
   "nbconvert_exporter": "python",
   "pygments_lexer": "ipython3",
   "version": "3.12.5"
  }
 },
 "nbformat": 4,
 "nbformat_minor": 2
}
